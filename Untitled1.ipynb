{
  "nbformat": 4,
  "nbformat_minor": 0,
  "metadata": {
    "colab": {
      "provenance": []
    },
    "kernelspec": {
      "name": "python3",
      "display_name": "Python 3"
    },
    "language_info": {
      "name": "python"
    }
  },
  "cells": [
    {
      "cell_type": "code",
      "execution_count": null,
      "metadata": {
        "id": "aCf-zhPJyBVM"
      },
      "outputs": [],
      "source": []
    },
    {
      "cell_type": "markdown",
      "source": [
        "HAND WRITTEN DIGIT PREDICTION - CLASSIFICATION ANALYSIS"
      ],
      "metadata": {
        "id": "g-OYZNBfyWuJ"
      }
    },
    {
      "cell_type": "markdown",
      "source": [
        "The objective of the project is to analyse hand written digits and analyse them using machine learning techniqes."
      ],
      "metadata": {
        "id": "g_lLtIxbywEY"
      }
    },
    {
      "cell_type": "markdown",
      "source": [
        "Data sourse is from sklearn dataset"
      ],
      "metadata": {
        "id": "WOMT_jeWzCqI"
      }
    },
    {
      "cell_type": "markdown",
      "source": [
        "IMPORT LIBRARY"
      ],
      "metadata": {
        "id": "lRXEcYk-0NiA"
      }
    },
    {
      "cell_type": "code",
      "source": [
        "import pandas as pd"
      ],
      "metadata": {
        "id": "LL80ziPW0QZz"
      },
      "execution_count": 1,
      "outputs": []
    },
    {
      "cell_type": "code",
      "source": [
        " import numpy as np"
      ],
      "metadata": {
        "id": "X2siRANP3Ncy"
      },
      "execution_count": 2,
      "outputs": []
    },
    {
      "cell_type": "code",
      "source": [
        "import matplotlib.pyplot as plt"
      ],
      "metadata": {
        "id": "Psof7oxH3SSZ"
      },
      "execution_count": 3,
      "outputs": []
    },
    {
      "cell_type": "code",
      "source": [
        "from sklearn.datasets import load_digits"
      ],
      "metadata": {
        "id": "M1_Vjor13T04"
      },
      "execution_count": 4,
      "outputs": []
    },
    {
      "cell_type": "code",
      "source": [
        "df=load_digits()"
      ],
      "metadata": {
        "id": "5It4VfrJ3Xmo"
      },
      "execution_count": 5,
      "outputs": []
    },
    {
      "cell_type": "code",
      "source": [
        "_,axes = plt.subplots(nrows=1, ncols=4, figsize=(10, 3))\n",
        "for ax, image, label in zip(axes, df.images, df.target):\n",
        "  ax.set_axis_off()\n",
        "  ax.imshow(image, cmap=plt.cm.gray_r, interpolation=\"nearest\")\n",
        "  ax.set_title(\"Training: %i,\" %label)"
      ],
      "metadata": {
        "colab": {
          "base_uri": "https://localhost:8080/",
          "height": 227
        },
        "id": "IGlgKzeg3pUJ",
        "outputId": "516f2be1-c6d1-40cc-8bc6-cb9d5bf16405"
      },
      "execution_count": 12,
      "outputs": [
        {
          "output_type": "display_data",
          "data": {
            "text/plain": [
              "<Figure size 1000x300 with 4 Axes>"
            ],
            "image/png": "[encoded data removed]"
          },
          "metadata": {}
        }
      ]
    },
    {
      "cell_type": "code",
      "source": [
        "df.images.shape"
      ],
      "metadata": {
        "colab": {
          "base_uri": "https://localhost:8080/"
        },
        "id": "LO81hhGu5BCy",
        "outputId": "ca4c56fa-8ca7-439b-e3a5-043c7ea70013"
      },
      "execution_count": 13,
      "outputs": [
        {
          "output_type": "execute_result",
          "data": {
            "text/plain": [
              "(1797, 8, 8)"
            ]
          },
          "metadata": {},
          "execution_count": 13
        }
      ]
    },
    {
      "cell_type": "code",
      "source": [
        "df.images[0]"
      ],
      "metadata": {
        "colab": {
          "base_uri": "https://localhost:8080/"
        },
        "id": "IpxTUCch5EBK",
        "outputId": "50eec7c9-f58a-4288-95e0-9fe9ad4c3ae4"
      },
      "execution_count": 14,
      "outputs": [
        {
          "output_type": "execute_result",
          "data": {
            "text/plain": [
              "array([[ 0.,  0.,  5., 13.,  9.,  1.,  0.,  0.],\n",
              "       [ 0.,  0., 13., 15., 10., 15.,  5.,  0.],\n",
              "       [ 0.,  3., 15.,  2.,  0., 11.,  8.,  0.],\n",
              "       [ 0.,  4., 12.,  0.,  0.,  8.,  8.,  0.],\n",
              "       [ 0.,  5.,  8.,  0.,  0.,  9.,  8.,  0.],\n",
              "       [ 0.,  4., 11.,  0.,  1., 12.,  7.,  0.],\n",
              "       [ 0.,  2., 14.,  5., 10., 12.,  0.,  0.],\n",
              "       [ 0.,  0.,  6., 13., 10.,  0.,  0.,  0.]])"
            ]
          },
          "metadata": {},
          "execution_count": 14
        }
      ]
    },
    {
      "cell_type": "code",
      "source": [
        "df.images[0].shape"
      ],
      "metadata": {
        "colab": {
          "base_uri": "https://localhost:8080/"
        },
        "id": "qKv-P88H5Rp5",
        "outputId": "b22e8df6-4ab3-4911-cd5e-7a6575e676e6"
      },
      "execution_count": 15,
      "outputs": [
        {
          "output_type": "execute_result",
          "data": {
            "text/plain": [
              "(8, 8)"
            ]
          },
          "metadata": {},
          "execution_count": 15
        }
      ]
    },
    {
      "cell_type": "code",
      "source": [
        "len(df.images)"
      ],
      "metadata": {
        "colab": {
          "base_uri": "https://localhost:8080/"
        },
        "id": "WPr8wk0P5SkK",
        "outputId": "a3af62f7-d4c2-43b4-a354-40a52345cdc4"
      },
      "execution_count": 16,
      "outputs": [
        {
          "output_type": "execute_result",
          "data": {
            "text/plain": [
              "1797"
            ]
          },
          "metadata": {},
          "execution_count": 16
        }
      ]
    },
    {
      "cell_type": "code",
      "source": [
        "n_samples =len(df.images)\n",
        "data =df.images.reshape((n_samples, -1))"
      ],
      "metadata": {
        "id": "xEPU0qyf5VFy"
      },
      "execution_count": 17,
      "outputs": []
    },
    {
      "cell_type": "code",
      "source": [
        "data[0]"
      ],
      "metadata": {
        "colab": {
          "base_uri": "https://localhost:8080/"
        },
        "id": "NlGsa_tK5hri",
        "outputId": "9ac2dac5-a305-408b-d735-ae3233896156"
      },
      "execution_count": 18,
      "outputs": [
        {
          "output_type": "execute_result",
          "data": {
            "text/plain": [
              "array([ 0.,  0.,  5., 13.,  9.,  1.,  0.,  0.,  0.,  0., 13., 15., 10.,\n",
              "       15.,  5.,  0.,  0.,  3., 15.,  2.,  0., 11.,  8.,  0.,  0.,  4.,\n",
              "       12.,  0.,  0.,  8.,  8.,  0.,  0.,  5.,  8.,  0.,  0.,  9.,  8.,\n",
              "        0.,  0.,  4., 11.,  0.,  1., 12.,  7.,  0.,  0.,  2., 14.,  5.,\n",
              "       10., 12.,  0.,  0.,  0.,  0.,  6., 13., 10.,  0.,  0.,  0.])"
            ]
          },
          "metadata": {},
          "execution_count": 18
        }
      ]
    },
    {
      "cell_type": "code",
      "source": [
        " data[0].shape"
      ],
      "metadata": {
        "colab": {
          "base_uri": "https://localhost:8080/"
        },
        "id": "22y4g_Eb5vmK",
        "outputId": "4ac8709c-5bcf-436a-897a-6933ba2913ae"
      },
      "execution_count": 19,
      "outputs": [
        {
          "output_type": "execute_result",
          "data": {
            "text/plain": [
              "(64,)"
            ]
          },
          "metadata": {},
          "execution_count": 19
        }
      ]
    },
    {
      "cell_type": "code",
      "source": [
        "data.shape"
      ],
      "metadata": {
        "colab": {
          "base_uri": "https://localhost:8080/"
        },
        "id": "3d2seX_35zeS",
        "outputId": "15a380b6-969b-4141-ce2a-276b85d1f03f"
      },
      "execution_count": 20,
      "outputs": [
        {
          "output_type": "execute_result",
          "data": {
            "text/plain": [
              "(1797, 64)"
            ]
          },
          "metadata": {},
          "execution_count": 20
        }
      ]
    },
    {
      "cell_type": "code",
      "source": [
        " from sklearn.model_selection import train_test_split"
      ],
      "metadata": {
        "id": "UAapmSgO53qS"
      },
      "execution_count": 21,
      "outputs": []
    },
    {
      "cell_type": "markdown",
      "source": [],
      "metadata": {
        "id": "zkEMKZCw6iF7"
      }
    },
    {
      "cell_type": "code",
      "source": [
        "X_train, X_test, y_train, y_test = train_test_split(data, df.target, test_size=0.3)"
      ],
      "metadata": {
        "id": "24iqHr8b6Dzq"
      },
      "execution_count": 25,
      "outputs": []
    },
    {
      "cell_type": "code",
      "source": [
        "X_train.shape,X_test.shape, y_train.shape, y_test.shape"
      ],
      "metadata": {
        "colab": {
          "base_uri": "https://localhost:8080/"
        },
        "id": "T6qhfaYN6Edz",
        "outputId": "d90ab8eb-5a6f-4b08-c27f-79d246e1f7dd"
      },
      "execution_count": 26,
      "outputs": [
        {
          "output_type": "execute_result",
          "data": {
            "text/plain": [
              "((1257, 64), (540, 64), (1257,), (540,))"
            ]
          },
          "metadata": {},
          "execution_count": 26
        }
      ]
    },
    {
      "cell_type": "code",
      "source": [
        "from sklearn.ensemble import RandomForestClassifier"
      ],
      "metadata": {
        "id": "hmW4ir0F6qfz"
      },
      "execution_count": 27,
      "outputs": []
    },
    {
      "cell_type": "code",
      "source": [
        "rf= RandomForestClassifier()"
      ],
      "metadata": {
        "id": "jLTDryuv6w-6"
      },
      "execution_count": 28,
      "outputs": []
    },
    {
      "cell_type": "code",
      "source": [
        " rf.fit(X_train, y_train)"
      ],
      "metadata": {
        "colab": {
          "base_uri": "https://localhost:8080/",
          "height": 75
        },
        "id": "zgvnVFvL64Qr",
        "outputId": "2059440f-8996-432f-f28e-566db33c0d0a"
      },
      "execution_count": 29,
      "outputs": [
        {
          "output_type": "execute_result",
          "data": {
            "text/plain": [
              "RandomForestClassifier()"
            ],
            "text/html": [
              "<style>#sk-container-id-1 {color: black;background-color: white;}#sk-container-id-1 pre{padding: 0;}#sk-container-id-1 div.sk-toggleable {background-color: white;}#sk-container-id-1 label.sk-toggleable__label {cursor: pointer;display: block;width: 100%;margin-bottom: 0;padding: 0.3em;box-sizing: border-box;text-align: center;}#sk-container-id-1 label.sk-toggleable__label-arrow:before {content: \"▸\";float: left;margin-right: 0.25em;color: #696969;}#sk-container-id-1 label.sk-toggleable__label-arrow:hover:before {color: black;}#sk-container-id-1 div.sk-estimator:hover label.sk-toggleable__label-arrow:before {color: black;}#sk-container-id-1 div.sk-toggleable__content {max-height: 0;max-width: 0;overflow: hidden;text-align: left;background-color: #f0f8ff;}#sk-container-id-1 div.sk-toggleable__content pre {margin: 0.2em;color: black;border-radius: 0.25em;background-color: #f0f8ff;}#sk-container-id-1 input.sk-toggleable__control:checked~div.sk-toggleable__content {max-height: 200px;max-width: 100%;overflow: auto;}#sk-container-id-1 input.sk-toggleable__control:checked~label.sk-toggleable__label-arrow:before {content: \"▾\";}#sk-container-id-1 div.sk-estimator input.sk-toggleable__control:checked~label.sk-toggleable__label {background-color: #d4ebff;}#sk-container-id-1 div.sk-label input.sk-toggleable__control:checked~label.sk-toggleable__label {background-color: #d4ebff;}#sk-container-id-1 input.sk-hidden--visually {border: 0;clip: rect(1px 1px 1px 1px);clip: rect(1px, 1px, 1px, 1px);height: 1px;margin: -1px;overflow: hidden;padding: 0;position: absolute;width: 1px;}#sk-container-id-1 div.sk-estimator {font-family: monospace;background-color: #f0f8ff;border: 1px dotted black;border-radius: 0.25em;box-sizing: border-box;margin-bottom: 0.5em;}#sk-container-id-1 div.sk-estimator:hover {background-color: #d4ebff;}#sk-container-id-1 div.sk-parallel-item::after {content: \"\";width: 100%;border-bottom: 1px solid gray;flex-grow: 1;}#sk-container-id-1 div.sk-label:hover label.sk-toggleable__label {background-color: #d4ebff;}#sk-container-id-1 div.sk-serial::before {content: \"\";position: absolute;border-left: 1px solid gray;box-sizing: border-box;top: 0;bottom: 0;left: 50%;z-index: 0;}#sk-container-id-1 div.sk-serial {display: flex;flex-direction: column;align-items: center;background-color: white;padding-right: 0.2em;padding-left: 0.2em;position: relative;}#sk-container-id-1 div.sk-item {position: relative;z-index: 1;}#sk-container-id-1 div.sk-parallel {display: flex;align-items: stretch;justify-content: center;background-color: white;position: relative;}#sk-container-id-1 div.sk-item::before, #sk-container-id-1 div.sk-parallel-item::before {content: \"\";position: absolute;border-left: 1px solid gray;box-sizing: border-box;top: 0;bottom: 0;left: 50%;z-index: -1;}#sk-container-id-1 div.sk-parallel-item {display: flex;flex-direction: column;z-index: 1;position: relative;background-color: white;}#sk-container-id-1 div.sk-parallel-item:first-child::after {align-self: flex-end;width: 50%;}#sk-container-id-1 div.sk-parallel-item:last-child::after {align-self: flex-start;width: 50%;}#sk-container-id-1 div.sk-parallel-item:only-child::after {width: 0;}#sk-container-id-1 div.sk-dashed-wrapped {border: 1px dashed gray;margin: 0 0.4em 0.5em 0.4em;box-sizing: border-box;padding-bottom: 0.4em;background-color: white;}#sk-container-id-1 div.sk-label label {font-family: monospace;font-weight: bold;display: inline-block;line-height: 1.2em;}#sk-container-id-1 div.sk-label-container {text-align: center;}#sk-container-id-1 div.sk-container {/* jupyter's `normalize.less` sets `[hidden] { display: none; }` but bootstrap.min.css set `[hidden] { display: none !important; }` so we also need the `!important` here to be able to override the default hidden behavior on the sphinx rendered scikit-learn.org. See: https://github.com/scikit-learn/scikit-learn/issues/21755 */display: inline-block !important;position: relative;}#sk-container-id-1 div.sk-text-repr-fallback {display: none;}</style><div id=\"sk-container-id-1\" class=\"sk-top-container\"><div class=\"sk-text-repr-fallback\"><pre>RandomForestClassifier()</pre><b>In a Jupyter environment, please rerun this cell to show the HTML representation or trust the notebook. <br />On GitHub, the HTML representation is unable to render, please try loading this page with nbviewer.org.</b></div><div class=\"sk-container\" hidden><div class=\"sk-item\"><div class=\"sk-estimator sk-toggleable\"><input class=\"sk-toggleable__control sk-hidden--visually\" id=\"sk-estimator-id-1\" type=\"checkbox\" checked><label for=\"sk-estimator-id-1\" class=\"sk-toggleable__label sk-toggleable__label-arrow\">RandomForestClassifier</label><div class=\"sk-toggleable__content\"><pre>RandomForestClassifier()</pre></div></div></div></div></div>"
            ]
          },
          "metadata": {},
          "execution_count": 29
        }
      ]
    },
    {
      "cell_type": "code",
      "source": [
        "y_pred =rf.predict(X_test)"
      ],
      "metadata": {
        "id": "fViy3GLB699D"
      },
      "execution_count": 31,
      "outputs": []
    },
    {
      "cell_type": "code",
      "source": [
        " y_pred"
      ],
      "metadata": {
        "colab": {
          "base_uri": "https://localhost:8080/"
        },
        "id": "Z_82cUWI7E4j",
        "outputId": "46ab6f54-c6e7-4a21-c50d-5ee3095b3b4e"
      },
      "execution_count": 33,
      "outputs": [
        {
          "output_type": "execute_result",
          "data": {
            "text/plain": [
              "array([4, 7, 0, 1, 2, 7, 2, 7, 3, 5, 8, 3, 3, 4, 0, 8, 1, 0, 2, 9, 3, 8,\n",
              "       4, 1, 9, 6, 8, 4, 1, 2, 4, 0, 3, 9, 1, 5, 0, 9, 4, 4, 7, 8, 4, 1,\n",
              "       7, 3, 8, 0, 2, 3, 4, 1, 4, 2, 5, 8, 7, 9, 6, 3, 3, 8, 9, 8, 0, 3,\n",
              "       7, 2, 0, 9, 4, 3, 9, 2, 3, 1, 1, 0, 7, 5, 1, 0, 2, 7, 1, 5, 3, 3,\n",
              "       9, 5, 6, 4, 2, 7, 5, 2, 9, 1, 3, 0, 8, 9, 6, 5, 3, 1, 8, 0, 8, 4,\n",
              "       7, 4, 7, 4, 5, 8, 5, 0, 9, 5, 2, 3, 1, 6, 6, 5, 9, 9, 4, 6, 9, 8,\n",
              "       8, 9, 0, 4, 9, 9, 8, 3, 5, 8, 7, 1, 6, 1, 7, 8, 6, 3, 2, 3, 9, 5,\n",
              "       1, 4, 7, 4, 4, 5, 9, 8, 3, 6, 7, 6, 5, 2, 4, 0, 4, 2, 0, 4, 6, 0,\n",
              "       7, 3, 3, 6, 0, 2, 9, 1, 0, 6, 2, 1, 2, 3, 6, 8, 9, 4, 1, 9, 4, 2,\n",
              "       1, 7, 7, 3, 5, 0, 3, 8, 5, 8, 4, 8, 8, 5, 4, 2, 5, 6, 7, 6, 8, 2,\n",
              "       4, 4, 7, 0, 1, 2, 1, 8, 0, 2, 3, 4, 9, 5, 9, 6, 9, 4, 3, 7, 3, 9,\n",
              "       4, 9, 1, 3, 4, 6, 1, 6, 5, 5, 2, 9, 6, 1, 6, 8, 1, 7, 3, 1, 2, 7,\n",
              "       2, 7, 5, 4, 5, 7, 5, 5, 2, 0, 0, 0, 1, 1, 0, 7, 4, 5, 9, 7, 2, 9,\n",
              "       4, 1, 5, 0, 4, 0, 9, 1, 6, 0, 1, 5, 8, 4, 1, 1, 2, 4, 1, 1, 0, 3,\n",
              "       4, 9, 9, 8, 9, 8, 0, 0, 8, 9, 2, 0, 5, 2, 2, 3, 5, 0, 2, 5, 5, 5,\n",
              "       9, 5, 6, 9, 4, 8, 2, 4, 9, 4, 1, 9, 9, 4, 5, 1, 6, 8, 4, 7, 6, 6,\n",
              "       7, 1, 3, 0, 2, 5, 7, 1, 5, 6, 7, 5, 0, 5, 7, 6, 5, 8, 8, 8, 8, 2,\n",
              "       6, 1, 3, 2, 8, 3, 5, 1, 7, 8, 1, 0, 7, 1, 4, 0, 6, 3, 2, 1, 6, 9,\n",
              "       0, 5, 6, 3, 6, 0, 0, 6, 1, 5, 9, 7, 3, 4, 7, 0, 2, 6, 4, 8, 1, 6,\n",
              "       9, 6, 1, 2, 3, 3, 3, 3, 1, 1, 8, 4, 5, 3, 3, 5, 3, 1, 8, 5, 4, 2,\n",
              "       6, 0, 4, 1, 6, 7, 9, 7, 4, 2, 3, 6, 2, 5, 6, 0, 7, 9, 4, 1, 4, 5,\n",
              "       2, 3, 8, 7, 6, 4, 9, 4, 5, 7, 3, 9, 4, 7, 2, 9, 0, 1, 4, 7, 2, 7,\n",
              "       9, 3, 1, 7, 9, 3, 7, 9, 4, 2, 8, 5, 3, 0, 8, 2, 8, 2, 2, 6, 1, 6,\n",
              "       2, 9, 2, 3, 6, 6, 7, 1, 9, 5, 5, 9, 4, 6, 6, 6, 0, 9, 8, 3, 8, 0,\n",
              "       8, 2, 8, 7, 5, 5, 4, 2, 0, 1, 6, 7])"
            ]
          },
          "metadata": {},
          "execution_count": 33
        }
      ]
    },
    {
      "cell_type": "code",
      "source": [
        "from sklearn.metrics import confusion_matrix, classification_report"
      ],
      "metadata": {
        "id": "9E0a6g-L7IyC"
      },
      "execution_count": 34,
      "outputs": []
    },
    {
      "cell_type": "code",
      "source": [
        "confusion_matrix(y_test, y_pred)"
      ],
      "metadata": {
        "colab": {
          "base_uri": "https://localhost:8080/"
        },
        "id": "2jqyunw-7Rhr",
        "outputId": "eeb3b951-fb29-4afa-d88f-a44bf3a290df"
      },
      "execution_count": 35,
      "outputs": [
        {
          "output_type": "execute_result",
          "data": {
            "text/plain": [
              "array([[48,  0,  0,  0,  1,  0,  0,  0,  0,  0],\n",
              "       [ 0, 57,  0,  0,  0,  0,  0,  0,  0,  0],\n",
              "       [ 0,  0, 54,  0,  0,  0,  0,  0,  0,  0],\n",
              "       [ 0,  0,  0, 54,  0,  1,  0,  0,  0,  1],\n",
              "       [ 0,  0,  0,  0, 59,  0,  0,  2,  0,  0],\n",
              "       [ 0,  0,  0,  0,  1, 52,  1,  0,  0,  1],\n",
              "       [ 1,  0,  0,  0,  0,  1, 50,  0,  0,  0],\n",
              "       [ 0,  0,  0,  0,  0,  0,  0, 47,  0,  0],\n",
              "       [ 0,  2,  0,  0,  0,  1,  0,  0, 49,  0],\n",
              "       [ 0,  0,  0,  0,  0,  1,  0,  1,  1, 54]])"
            ]
          },
          "metadata": {},
          "execution_count": 35
        }
      ]
    },
    {
      "cell_type": "code",
      "source": [
        "print(classification_report(y_test, y_pred))"
      ],
      "metadata": {
        "colab": {
          "base_uri": "https://localhost:8080/"
        },
        "id": "7WXUWqsf7mWL",
        "outputId": "c2c7f8af-d055-4d30-ec29-0c521f3a8e88"
      },
      "execution_count": 37,
      "outputs": [
        {
          "output_type": "stream",
          "name": "stdout",
          "text": [
            "              precision    recall  f1-score   support\n",
            "\n",
            "           0       0.98      0.98      0.98        49\n",
            "           1       0.97      1.00      0.98        57\n",
            "           2       1.00      1.00      1.00        54\n",
            "           3       1.00      0.96      0.98        56\n",
            "           4       0.97      0.97      0.97        61\n",
            "           5       0.93      0.95      0.94        55\n",
            "           6       0.98      0.96      0.97        52\n",
            "           7       0.94      1.00      0.97        47\n",
            "           8       0.98      0.94      0.96        52\n",
            "           9       0.96      0.95      0.96        57\n",
            "\n",
            "    accuracy                           0.97       540\n",
            "   macro avg       0.97      0.97      0.97       540\n",
            "weighted avg       0.97      0.97      0.97       540\n",
            "\n"
          ]
        }
      ]
    }
  ]
}